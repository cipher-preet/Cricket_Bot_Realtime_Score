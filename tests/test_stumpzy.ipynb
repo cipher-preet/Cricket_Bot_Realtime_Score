{
 "cells": [
  {
   "cell_type": "code",
   "execution_count": null,
   "id": "c21059d2",
   "metadata": {},
   "outputs": [],
   "source": [
    "import os\n",
    "\n",
    "os.environ[\"OPENAI_API_KEY\"] = (\n",
    "    \"--------------------------------------------------\"\n",
    ")"
   ]
  },
  {
   "cell_type": "code",
   "execution_count": 2,
   "id": "ff734bd6",
   "metadata": {},
   "outputs": [],
   "source": [
    "from langchain_community.tools import BraveSearch\n",
    "from langchain_openai import ChatOpenAI\n",
    "\n",
    "from langchain_core.tools import tool\n"
   ]
  },
  {
   "cell_type": "code",
   "execution_count": null,
   "id": "67052a30",
   "metadata": {},
   "outputs": [],
   "source": [
    "# step 1 -> setup Brave Serach tool\n",
    "api_key = \"--------------------------------------------------\"\n",
    "\n",
    "brave_tool = BraveSearch.from_api_key(api_key=api_key, search_kwargs={\"count\": 20})"
   ]
  },
  {
   "cell_type": "code",
   "execution_count": 4,
   "id": "4288eef8",
   "metadata": {},
   "outputs": [],
   "source": [
    "# step 2 : calling LLM model\n",
    "\n",
    "llm = ChatOpenAI(model=\"gpt-4o-mini\", temperature=0.7, max_tokens=512, n=4)"
   ]
  },
  {
   "cell_type": "markdown",
   "id": "f4b2a33f",
   "metadata": {},
   "source": [
    "### GET TRENDING LEAGUE FOR HOME PAGE"
   ]
  },
  {
   "cell_type": "code",
   "execution_count": 5,
   "id": "53098a1e",
   "metadata": {},
   "outputs": [],
   "source": [
    "# define tool for get-Trending-Cricket-League\n",
    "\n",
    "\n",
    "@tool\n",
    "def brave_cricket_search(_input: str = \"\") -> str:\n",
    "    \"\"\"\n",
    "    Performs a globally refined Brave search for currently live or ongoing cricket leagues and tours.\n",
    "    Filters out previews, news, and non-authoritative content.\n",
    "    \"\"\"\n",
    "    query = (\n",
    "        '\"live cricket matches\" OR '\n",
    "        '\"ongoing domestic cricket matches India\" OR '\n",
    "        '\"current international cricket tours\" '\n",
    "        '\"current state-level cricket tournaments and League India\" '\n",
    "        \"-preview -opinion \"\n",
    "        \"site:cricbuzz.com OR site:espncricinfo.com OR site:icc-cricket.com\"\n",
    "    )\n",
    "    return brave_tool.run(query)"
   ]
  },
  {
   "cell_type": "code",
   "execution_count": 6,
   "id": "beb42579",
   "metadata": {},
   "outputs": [
    {
     "data": {
      "text/plain": [
       "'[{\"title\": \"Cricket Fixtures: List of Ongoing, Upcoming and Concluded Series\", \"link\": \"https://www.espncricinfo.com/cricket-fixtures\", \"snippet\": \"Find the list of <strong>domestic</strong> <strong>and</strong> <strong>international</strong> <strong>current</strong> <strong>cricket</strong> series, upcoming series, and recently concluded <strong>tournaments</strong> on our comprehensive <strong>cricket</strong> fixtures page. Current Cricket \\\\u00b7 Future Series / Tournaments \\\\u00b7 Recently Concluded \\\\u00b7 Download Schedule \\\\u00b7 Download ICC\\'s Future tours programme (Men) Download ICC\\'s Future tours programme (Women) International Tours \\\\u00b7 England vs IndiaJun 13, 2025 - Jul 15, 2025 \\\\u00b7 Fixtures & ResultsSquads \\\\u00b7\"}, {\"title\": \"ICC Cricket Fixtures & Results | ICC\", \"link\": \"https://www.icc-cricket.com/fixtures-results\", \"snippet\": \"Stay updated with the latest ICC <strong>cricket</strong> fixtures, results, <strong>match</strong> schedules, and scores. Explore upcoming <strong>international</strong> <strong>and</strong> <strong>domestic</strong> games, including T20, ODI, and Test formats.\"}, {\"title\": \"India Cricket Team Schedule, Results & Timetable\", \"link\": \"https://www.espncricinfo.com/team/india-6/match-schedule-fixtures-and-results\", \"snippet\": \"Stay updated with the <strong>India</strong> <strong>cricket</strong> team schedules, fixtures, and results. Find <strong>live</strong> <strong>cricket</strong> scores and upcoming <strong>matches</strong> on ESPNcricinfo.\"}, {\"title\": \"Cricket Schedule | Upcoming Cricket Matches | Score And Fixtures\", \"link\": \"https://www.espncricinfo.com/live-cricket-match-schedule-fixtures\", \"snippet\": \"Check <strong>cricket</strong> schedules for upcoming <strong>cricket</strong> <strong>matches</strong>, upcoming test series, T20 series, <strong>international</strong> <strong>and</strong> <strong>domestic</strong> ODI at ESPNcricinfo. Chilaw Marians Cricket Club vs Tamil Union Cricket and Athletic ClubGroup A, Colombo (NCC), July 09, 2025 Bloomfield Cricket and Athletic Club vs Burgher Recreation ClubGroup B, Colombo (Bloomfield), July 09, 2025 Tamil Union Cricket and Athletic Club vs Badureliya Sports ClubGroup A, Colombo (PSS), July 13, 2025\"}, {\"title\": \"India Cricket Team | IND | News & Matches\", \"link\": \"https://www.espncricinfo.com/team/india-6\", \"snippet\": \"Find <strong>India</strong> <strong>Cricket</strong> Team news, <strong>match</strong> schedule, results, photos, and videos on ESPNcricinfo. Stay updated with the IND Team performances. They went through both of those last two tournaments unbeaten. The most significant development in Indian cricket over the last half-century has probably been the birth and success of the Indian Premier League, the most lucrative and most competitive T20 league in the world, which kicked off in 2008. In the second half of the 2010s and after, India also produced excellent fast bowlers (Jasprit Bumrah, Mohammed Shami and others) to become one of the most formidable teams in Test cricket, home and away. They went 11 Test series without a loss from 2008-09, won two Test series on the bounce in Australia starting 2018-19, and got to the final of the World Test Championship in both of the first two cycles of that tournament. Captain: Shubman Gill (Tests), Rohit Sharma (ODIs), Suryakumar Yadav (T20Is) Coach: Gautam Gambhir (head coach), Morne Morkel (bowling coach), Sitanshu Kotak (batting coach), Ryan ten Doeschate (assistant coach), T Dilip (fielding coach) First international match: 1932 Cricket board: Board of Control for Cricket in India (BCCI) ICC titles: 7 Fan following for the sport in the country surged in the years following their fairy-tale first ODI World Cup win, in 1983, and by the late 1990s, India was the world\\'s biggest cricket market: the money from the sale of TV rights to grab the attention of its hundreds of millions of fans had begun in large part to call the shots in the game.\"}, {\"title\": \"Live Cricket Score | Today\\'s Cricket Match Scorecard & Commentary\", \"link\": \"https://www.espncricinfo.com/live-cricket-score\", \"snippet\": \"Check <strong>live</strong> <strong>cricket</strong> scores, upcoming <strong>cricket</strong> <strong>matches</strong>, ball-by-ball commentary, &amp; <strong>live</strong> score updates with latest news for today&#x27;s <strong>live</strong> <strong>cricket</strong> <strong>matches</strong> on ESPNcricinfo. Live cricket scores and updates on India tour of England 2025 and all current top-level cricket matches for men and women - Tests, ODIs, T20s, first-class cricket, List A cricket, and more. Get the latest information, ball-by-ball commentary, and live updates on England vs India 2025 Test Match live score and other cricket matches. Follow the latest games featuring India, England, Australia, Pakistan, Bangladesh, Sri Lanka, New Zealand, South Africa, West Indies and more. ESPNcricinfo\\'s live scores page tells you what games are on now, and gives you fast scores and minute-by-minute updates for them. From T20 and T10 leagues to the cricket World Cup and World Test Championship, you\\'ll find them all here.\"}, {\"title\": \"Cricket Schedule - Upcoming Tests, ODIs, T20 | ESPNcricinfo.com\", \"link\": \"https://www.espncricinfo.com/ci/engine/series/index.html?view=month\", \"snippet\": \"Get <strong>Cricket</strong> Schedules for the <strong>current</strong> &amp; upcoming <strong>cricket</strong> series \\\\u2713 Results \\\\u2713Scorecard \\\\u2713News \\\\u2713<strong>Tournament</strong> only on ESPNcricinfo.com\"}, {\"title\": \"International Cricket Schedule - Upcoming Confirmed Series | ESPNcricinfo.com\", \"link\": \"https://www.espncricinfo.com/ci/engine/match/index.html?view=calendar\", \"snippet\": \"Check confirmed <strong>cricket</strong> schedule, event venue <strong>and</strong> <strong>match</strong> details for all the upcoming Test, T20, ODI series on ESPNcricinfo.com for next one year. The schedule given here only contains confirmed international cricket matches. As soon as we get more information, this page will be updated.\"}, {\"title\": \"Matches | ICC World Test Championship Final, 2025 | ICC\", \"link\": \"https://www.icc-cricket.com/tournaments/world-test-championship/matches/250826/england-vs-india\", \"snippet\": \"Official ICC <strong>Cricket</strong> website - <strong>live</strong> <strong>matches</strong>, scores, news, highlights, commentary, rankings, videos and fixtures from the <strong>International</strong> <strong>Cricket</strong> Council.\"}, {\"title\": \"India | ICC\", \"link\": \"https://www.icc-cricket.com/teams/4/india\", \"snippet\": \"Exclusive content, priority ticket access and personalised news. Never miss a moment \\\\u00b7 <strong>India</strong> script an inspiring first Test win at Edgbaston\"}, {\"title\": \"Home | ICC\", \"link\": \"https://www.icc-cricket.com/\", \"snippet\": \"Official ICC <strong>Cricket</strong> website - <strong>live</strong> <strong>matches</strong>, scores, news, highlights, commentary, rankings, videos and fixtures from the <strong>International</strong> <strong>Cricket</strong> Council. Bermuda v Cayman Islands | Match Highlights | ICC Men\\'s T20 World Cup 2026 Americas Regional Final 19 June, 2025 ... Find the list of tournaments, series and matches that are available to be live-streamed within your region throughout the year!View the ICC.tv Guide Cayman Islands vs Bermuda | Match Highlights | ICC Men\\'s T20 World Cup 2026 Americas Regional Final 22 June, 2025 Bahamas v Canada | Match Highlights | ICC Men\\'s T20 World Cup 2026 Americas Regional Final 22 June, 2025 Cayman Islands v Canada | Match Highlights | ICC Men\\'s T20 World Cup 2026 Americas Regional Final 20 June, 2025\"}, {\"title\": \"Season Cricket Schedule - Upcoming Cricket Calendar | ESPNcricinfo.com\", \"link\": \"https://www.espncricinfo.com/ci/engine/series/index.html?search=india;view=season\", \"snippet\": \"Get global Season <strong>Cricket</strong> Schedules &amp; updates for both past and upcoming Test, ODI, T20 <strong>cricket</strong> <strong>matches</strong> only on ESPNcricinfo.com\"}, {\"title\": \"Today\\'s Cricket Match | Cricket Update | Cricket News | ESPNcricinfo\", \"link\": \"https://www.espncricinfo.com/\", \"snippet\": \"Get <strong>live</strong> <strong>cricket</strong> scores, <strong>cricket</strong> updates of upcoming <strong>International</strong>, <strong>domestic</strong> <strong>and</strong> T20 <strong>matches</strong>. Catch all the latest videos, news about <strong>cricket</strong> on ESPNcricinfo. ENG Women vs IND WomenZimbabwe vs South AfricaMLC 2025England vs IndiaWest Indies vs AustraliaSri Lanka vs BangladeshENG Under-19s vs IND Under-19sCounty Division 2County Division 1Vitality Blast WomenVitality Blast MenCWC Challenge League Group BCWC Challenge League Group ACricket World Cup League 2Women\\'s ChampionshipICC World Test Championship, 2025-2027\"}, {\"title\": \"Live Cricket Update - ENG vs IND 1st Test - Duckett and Root star as England chase down 371 in style\", \"link\": \"https://www.espncricinfo.com/series/india-in-england-2025-1445348/england-vs-india-1st-test-1448349/live-match-blog\", \"snippet\": \"Follow our <strong>live</strong> <strong>cricket</strong> update for in-depth <strong>match</strong> coverage and exciting highlights from England vs <strong>India</strong> 1st Test at Leeds on ESPNcricinfo. 111 Balls taken to reach 50 by Zak Crawley, his slowest in Test cricket. His previous slowest took exactly 100 balls, against West Indies in March 2022 ... 24 Years since England\\'s openers put on a partnership this big in the fourth innings of a match. The good news for India is that England were heavily beaten on that occasion, going down to Saqlain Mushtaq and Wasim Akram at Old Trafford Sidharth Monga at Headingley: No wicket in the first 110 minutes after inserting India in, and the temptation is go after statspeople. The word going around pretty quickly was that this was a decision made on stats \\\\u2013 last six Headingley Tests won by chasing sides and only six out of 28 Tests in Bazball era won by sides batting first \\\\u2013 and not on the conditions. One, there is a lot of hindsight involved in that criticism. Both the captains wanted to bowl first. The head of ground, a Bradford League legend batter himself, said the thing to do was to bowl first. It was Jamie Smith, who having prodded and defended against his instinct, took on Jadeja. With six required, he brought out the slog sweep and smashed him over cow corner to bring up England\\'s second-highest run-chase in Test cricket. Gives Root a big hug, with all smiles in the England changeroom. India had their chances, make no mistake. Talk about standing up when we need it most Ben Duckett goes to his century @IGcom pic.twitter.com/W9D4gHrzLs\\\\u2014 England Cricket (@englandcricket) June 24, 2025 \\\\u00b7 Ben Duckett reaches his sixth Test century - and second against India - in trademark style, nailing a reverse-sweep off Jadeja which beats the man on the boundary who is there specifically for that shot.\"}, {\"title\": \"India Women Cricket Team Schedule, Results & Timetable\", \"link\": \"https://www.espncricinfo.com/team/india-women-1812/match-schedule-fixtures-and-results\", \"snippet\": \"Stay updated with the <strong>India</strong> Women <strong>cricket</strong> team schedules, fixtures, and results. Find <strong>live</strong> <strong>cricket</strong> scores and upcoming <strong>matches</strong> on ESPNcricinfo.\"}, {\"title\": \"Matches | ICC Champions Trophy, 2025 | ICC\", \"link\": \"https://www.icc-cricket.com/tournaments/champions-trophy-2025/matches\", \"snippet\": \"Official ICC Champions Trophy, 2025 <strong>Cricket</strong> website - <strong>live</strong> <strong>matches</strong>, scores, news, highlights, commentary, rankings, videos and fixtures from the <strong>International</strong> <strong>Cricket</strong> Council.\"}, {\"title\": \"India Champions Cricket Team Schedule, Results & Timetable\", \"link\": \"https://www.espncricinfo.com/team/india-champions-1442343/match-schedule-fixtures-and-results\", \"snippet\": \"Stay updated with the <strong>India</strong> Champions <strong>cricket</strong> team schedules, fixtures, and results. Find <strong>live</strong> <strong>cricket</strong> scores and upcoming <strong>matches</strong> on ESPNcricinfo.\"}, {\"title\": \"2025 Season Cricket Schedule - Upcoming Cricket Calendar | ESPNcricinfo.com\", \"link\": \"https://www.espncricinfo.com/ci/engine/series/index.html?season=2025;view=season\", \"snippet\": \"Get global Season <strong>Cricket</strong> Schedules &amp; updates for both past and upcoming Test, ODI, T20 <strong>cricket</strong> <strong>matches</strong> only on ESPNcricinfo.com , Mar-Jun 2025 (in India) Winner Royal Challengers Bengaluru + Pakistan Super League \\\\u00b7 , Apr-May 2025 \\\\u00b7 Winner Lahore Qalandars + Major Clubs T20 Tournament \\\\u00b7 , May-Jun 2025 (in Sri Lanka) Winner Colombo Cricket Club + Vitality Blast Men \\\\u00b7 , May-Sep 2025 (in England) Current series + Major League Cricket \\\\u00b7\"}, {\"title\": \"India Legends Cricket Team Schedule, Results & Timetable\", \"link\": \"https://www.espncricinfo.com/team/india-legends-1217119/match-schedule-fixtures-and-results\", \"snippet\": \"Stay updated with the <strong>India</strong> Legends <strong>cricket</strong> team schedules, fixtures, and results. Find <strong>live</strong> <strong>cricket</strong> scores and upcoming <strong>matches</strong> on ESPNcricinfo.\"}, {\"title\": \"What\\'s on ICC.tv | ICC\", \"link\": \"https://www.icc-cricket.com/news/what-s-on-icc-tv\", \"snippet\": \"Exclusive content, priority ticket access and personalised news. Never miss a moment \\\\u00b7 Here you\\\\u2019ll find the list of <strong>tournaments</strong>, series <strong>and</strong> <strong>matches</strong> that are available to be <strong>live</strong>-streamed within your region throughout the year Tournament time zone is CAT (UTC +2). Worldwide EXCEPT for: India, Pakistan, Bangladesh, Angola, Benin, Botswana, Burkina Faso, Burundi, Cabo Verde, Cameroon, Central African Republic, Chad, Comoros, Congo, C\\\\u00f4te d\\'Ivoire, Democratic Republic of the Congo, Djibouti, Equatorial Guinea, Eritrea, Eswatini, Ethiopia, Gabon, Gambia, Ghana, Guinea, Guinea-Bissau, Kenya, Lesotho, Liberia, Madagascar, Malawi, Mali, Mauritania, Mauritius, Mayotte, Mozambique, Namibia, Niger, Nigeria, Rwanda, Sao Tome and Principe, Senegal, Seychelles, Sierra Leone, Somalia, South Africa, South Sudan, Sudan, Togo, Tanzania, Uganda, Zambia, Zimbabwe. All timings are UTC. Tournament time zone is CEST (UTC +2). Worldwide EXCEPT for India. With a variety of match highlights, ICC films and documentaries, you can browse the ICC\\\\u2019s extensive library of on-demand videos. Here\\\\u2019s what you can watch LIVE and FREE on ICC.tv in 2025: ... Not an ICC Family member yet? Sign up here. ... All timings are UTC. Tournament time zone is BST (UTC +1). Here you\\\\u2019ll find the list of tournaments, series and matches that are available to be live-streamed within your region throughout the year!\"}]'"
      ]
     },
     "execution_count": 6,
     "metadata": {},
     "output_type": "execute_result"
    }
   ],
   "source": [
    "search_snippets = brave_cricket_search.invoke(\"\")\n",
    "\n",
    "search_snippets"
   ]
  },
  {
   "cell_type": "code",
   "execution_count": 7,
   "id": "9eca038f",
   "metadata": {},
   "outputs": [],
   "source": [
    "from langchain.prompts import ChatPromptTemplate\n",
    "from langchain.output_parsers import PydanticOutputParser\n",
    "from pydantic import BaseModel, Field\n",
    "from typing import List"
   ]
  },
  {
   "cell_type": "code",
   "execution_count": 8,
   "id": "daf937f1",
   "metadata": {},
   "outputs": [],
   "source": [
    "# define output Format\n",
    "\n",
    "\n",
    "class LeagueOutputFormat(BaseModel):\n",
    "    trending_leagues_and_tours: List[str] = Field(\n",
    "        ...,\n",
    "        description=\"List of currently ongoing cricket leagues and international tours\",\n",
    "    )"
   ]
  },
  {
   "cell_type": "code",
   "execution_count": 9,
   "id": "bf547867",
   "metadata": {},
   "outputs": [],
   "source": [
    "# create a paerser\n",
    "\n",
    "output_parser = PydanticOutputParser(pydantic_object=LeagueOutputFormat)"
   ]
  },
  {
   "cell_type": "code",
   "execution_count": 10,
   "id": "36a95ae4",
   "metadata": {},
   "outputs": [],
   "source": [
    "# ==== Function : get-Trending-Cricket-League ====\n",
    "\n",
    "\n",
    "def generate_cricket_prompt(search_snippets: str) -> str:\n",
    "    prompt = ChatPromptTemplate.from_template(\n",
    "        \"\"\"\n",
    "You are a cricket data assistant.\n",
    "\n",
    "From the following web search result snippets, extract the names of all **currently ongoing or live cricket leagues, tournaments, or international tours**.\n",
    "\n",
    "🎯 Your goal is to identify **active** events happening **right now** across:\n",
    "- ✅ International level (e.g., \"India Tour of England\", \"ICC World Test Championship\")\n",
    "- ✅ Domestic leagues (e.g., \"Vitality Blast\", \"CPL\", \"BBL\", \"PSL\")\n",
    "- ✅ Indian domestic cricket (e.g., \"Ranji Trophy\", \"Duleep Trophy\", \"Syed Mushtaq Ali Trophy\", \"Vijay Hazare Trophy\", \"Deodhar Trophy\", \"Irani Cup\", \"CK Nayudu Trophy\", \"Women's T20 Trophy\")\n",
    "- ✅ National-level tournaments or bilateral series (e.g., \"Sri Lanka vs Bangladesh\", \"India Women vs South Africa Women\")\n",
    "\n",
    "✅ Include:\n",
    "- Any league, tournament, or tour clearly mentioned as **live**, **in progress**, **ongoing**, or currently providing **live scores**\n",
    "- Competitions actively taking place in **any country**, especially **India’s domestic cricket** (Men’s or Women’s cricket)\n",
    "\n",
    "🚫 Exclude:\n",
    "- Future or upcoming events (e.g., \"IPL 2026\", \"India Tour of Australia 2026\")\n",
    "- Past or recently concluded series\n",
    "- Match previews or one-off matches (e.g., \"2nd T20 preview\", \"Final match preview\")\n",
    "- Rankings, scorecards, or statistical pages\n",
    "\n",
    "📦 Return the data in **pure JSON format only** (no explanation or comments) as:\n",
    "\n",
    "{format_instructions}\n",
    "\n",
    "📄 Search Snippets:\n",
    "{search_snippets}\n",
    "\"\"\"\n",
    "    )\n",
    "\n",
    "    formatted_prompt = prompt.format(\n",
    "        search_snippets=search_snippets,\n",
    "        format_instructions=output_parser.get_format_instructions(),\n",
    "    )\n",
    "\n",
    "    return formatted_prompt"
   ]
  },
  {
   "cell_type": "code",
   "execution_count": 11,
   "id": "09faa55d",
   "metadata": {},
   "outputs": [],
   "source": [
    "# Run the LLM\n",
    "\n",
    "\n",
    "def extract_ongoing_cricket_leagues(search_snippets: str):\n",
    "    prompt = generate_cricket_prompt(search_snippets)\n",
    "    response = llm.invoke(prompt).content\n",
    "    try:\n",
    "        return output_parser.parse(response)\n",
    "    except Exception as e:\n",
    "        return {\"error\": \"Failed to parse response\", \"raw_output\": response}"
   ]
  },
  {
   "cell_type": "code",
   "execution_count": 12,
   "id": "2eb67bc9",
   "metadata": {},
   "outputs": [],
   "source": [
    "homwPageChips = extract_ongoing_cricket_leagues(search_snippets)"
   ]
  },
  {
   "cell_type": "code",
   "execution_count": 13,
   "id": "933137af",
   "metadata": {},
   "outputs": [
    {
     "data": {
      "text/plain": [
       "LeagueOutputFormat(trending_leagues_and_tours=['England vs India', 'ICC World Test Championship, 2025-2027', 'Vitality Blast Women', 'Vitality Blast Men', 'CWC Challenge League Group B', 'CWC Challenge League Group A', \"Women's Championship\", 'Major League Cricket', 'India Women vs South Africa Women', 'Sri Lanka vs Bangladesh', 'West Indies vs Australia', 'ENG Women vs IND Women'])"
      ]
     },
     "execution_count": 13,
     "metadata": {},
     "output_type": "execute_result"
    }
   ],
   "source": [
    "homwPageChips"
   ]
  },
  {
   "cell_type": "code",
   "execution_count": null,
   "id": "6bdcbfb4",
   "metadata": {},
   "outputs": [],
   "source": []
  },
  {
   "cell_type": "markdown",
   "id": "0c5ae859",
   "metadata": {},
   "source": [
    "### STUMPZY Chat Starts"
   ]
  },
  {
   "cell_type": "code",
   "execution_count": 14,
   "id": "42f3337e",
   "metadata": {},
   "outputs": [],
   "source": [
    "@tool\n",
    "def brave_cricket_search(_input: str = \"\") -> str:\n",
    "    \"\"\"\n",
    "    Performs a globally refined Brave search for currently live or ongoing cricket leagues and tours.\n",
    "    Filters out previews, news, and non-authoritative content.\n",
    "    \"\"\"\n",
    "    query = (\n",
    "       'England vs India live score'\n",
    "    )\n",
    "    return brave_tool.run(query)"
   ]
  },
  {
   "cell_type": "code",
   "execution_count": 15,
   "id": "29620352",
   "metadata": {},
   "outputs": [
    {
     "data": {
      "text/plain": [
       "'[{\"title\": \"IND U19 vs ENG U19, 5th ODI Highlights: England win final game by 7 wickets, but India seal series 3-2 | Cricket News - The Indian Express\", \"link\": \"https://indianexpress.com/article/sports/cricket/ind-u19-vs-eng-u19-5th-youth-odi-live-cricket-score-india-england-under-19-worcester-today-updates-vaibhav-suryavanshi-thomas-rew-10111130/\", \"snippet\": \"The Indian Express website has been rated GREEN for its credibility and trustworthiness by Newsguard, a global service that rates news sources for their journalistic standards. Stay updated with the latest sports news across Cricket, Football, Chess, and more. Catch all the action with real-time <strong>live</strong> cricket <strong>score</strong> ... The Indian Express website has been rated GREEN for its credibility and trustworthiness by Newsguard, a global service that rates news sources for their journalistic standards. Stay updated with the latest sports news across Cricket, Football, Chess, and more. Catch all the action with real-time live cricket score updates and in-depth coverage of ongoing matches. This was Dawkins\\\\u2019 third successive half century against India in this series. England were always in control of the chase, thanks to the explosive batting of Dawkins and Ben Mayes which helped England cross the 100-run mark in just 15 overs. Earlier in the day, RS Ambrish had scored a fighting, back-to-the-wall 66 (not out) to drag India past the 200-run mark on Monday. Ben Dawkins is really in a hurry to finish the game. He\\'s smashed the India bowlers for 39 runs off 31 balls as England breeze past the 50-run mark in just nine overs. Mayes at the other end has just scored seven runs so far. He hits a boundary off every over before India introduce RS Ambrish into the attack. England scored 12 runs in the 6th over, all from hits to the fence! Some incrdible hitting here!  ... India have their first breakthrough, thanks to Deepesh Devendran who manages to induce Joseph Moores to give an easy catch to Harvansh Pangalia.\"}, {\"title\": \"IND U19 vs ENG U19 5th ODI Highlights: England canter to victory after Dawkins and Mayes heroics; India win series 3-2 | Crickit\", \"link\": \"https://www.hindustantimes.com/cricket/india-u19-vs-england-u19-5th-youth-odi-live-score-updates-ind-vs-eng-today-match-july-7-county-ground-worcester-101751868942357.html\", \"snippet\": \"IND U19 vs ENG U19 5th ODI India vs England highlights: England grabbed a consolation seven-wicket win in the fifth match of the series by putting up a dominating all-round performance. However, <strong>India take the series 3-2.</strong> | Crickit IND U19 vs ENG U19 5th ODI India vs England highlights: England grabbed a consolation seven-wicket win in the fifth match of the series by putting up a dominating all-round performance. However, India take the series 3-2. | Crickit England U19put up an all-round show to bag a consolation win in the fifth Youth ODI match against the India U19. Batting first, India scored 210/9 and England chased down the target with relative ease in 31.1 overs and seven wickets to spare. A really great catch by Kanishk Chauhan running back in the deep. Dawkins falls for 66. England 113/2 in 16.3 overs. Rocky Flintoff out in the middle, who scored a century in the last match. ... India\\'s spin experiment didn\\'t work out as they go back to Deepesh Devendran. India need a wicket here or else the game is running away pretty fast. England 93/1 in 14 overs. ... Ben Dawkins brings up his half-century off 43 balls, which included eight boundaries and two sixes. ... Mayes and Dawkins bring up the fifty run partnership. At the end of the first powerplay, England are 60/1. ... Ben Dawkins is on fire as he scores 15 runs off Ambrish\\'s first over which included one six and two boundaries.\"}, {\"title\": \"IND U19 vs ENG U19 5th Youth ODI Live Score: India U19 vs England U19 Latest Match Updates, Scorecard, Playing XI | Cricket News \\\\u2013 India TV\", \"link\": \"https://www.indiatvnews.com/sports/cricket/ind-u19-vs-eng-u19-5th-youth-odi-live-score-india-u19-vs-england-u19-new-road-worcester-latest-match-updates-scorecard-playing-xi-teams-highlights-2025-07-07-997795\", \"snippet\": \"Rew remains one short of his fifty, and England win this with seven wickets in hand and 113 balls to spare. <strong>India, however, have won the series 3-2</strong>, after having an unassailable lead of 3-1 coming into this contest. ... The 200 is up for England. They get there in the 30th over with Rew sweeping ... England chased down the target with seven wickets in hand and 113 balls to spare. Meanwhile, India had already bagged the series coming into this match as they had an unassailable lead of 3-1. The series now ended 3-2 in India\\'s favour. Meanwhile, there were no fireworks from Vaibhav Suryavanshi, who was dismissed for 33 in this match. He had previously scored 143 off 78 balls in the fourth Youth ODI which included the fastest century in Youth ODI off 52 balls. England need to chase 211 to win it and make the series 3-2. 3-2 sounds way better than 4-1. Right arm quick, Yudhajit Guha to start. ... Suryavanshi finished the series with 33 in the fifth Youth ODI. He made 48 off 19 balls, 45 off 34 balls, 86 off 31 balls and 143 off 78 balls in the first four matches. ... Ambrish topsthe scores with 66 to his name, and India have gone past 200. India Under-19 are seven down and the score is only 152 runs after 40 overs. Deepesh Devendran was the last man to be dismissed for a duck. England under-19 have been brilliant today with the ball and will be hoping to clean up India\\'s tail quickly. Rew remains one short of his fifty, and England win this with seven wickets in hand and 113 balls to spare. India, however, have won the series 3-2, after having an unassailable lead of 3-1 coming into this contest. ... The 200 is up for England. They get there in the 30th over with Rew sweeping a four. England are inches away from winning this.\"}, {\"title\": \"India vs England Highlights, 2nd Test Day 5: Shubman Gill Leads By Example As India Register Historic Win vs England At Edgbaston | Cricket News\", \"link\": \"https://sports.ndtv.com/england-vs-india-2025/india-vs-england-live-score-2nd-test-day-5-india-tour-of-england-2025-ind-vs-eng-live-updates-shubman-gill-mohammed-siraj-akash-deep-jamie-smith-8832121\", \"snippet\": \"India vs England Highlights, 2nd Test Day 5: Shubman Gill shone with scores of <strong>269 and 161</strong> as India outplayed England by 336 runs. India vs England Highlights, 2nd Test Day 5: Shubman Gill shone with scores of 269 and 161 as India outplayed England by 336 runs. India vs England, 2nd Test Day 5 Highlights: India outplayed England by 336 runs in the second Test at Edgbaston, Birmingham on Sunday to level the five-match series 1-1. With the win, the Shubman Gill-led side scripted history as it turned out to be India\\'s first-ever Test win at the venue. India previously played 8 matches in Birmingham and lost 7 of them, while drawing one. They finally broke a 58-year jinx of not winning a match here. For the contest, a belter pitch was on offer where Gill scored an aggregate 430 with knocks of 269 in the first innings and 161 in the second. Akash Deep also impressed in the absence of ace pacer Jasprit Bumrah by picking up 10 wickets, including a six-wicket haul in the final innings. Mohammed Siraj too helped the team\\'s cause with a total of 7 wickets to his name. (SCORECARD) ... Okay, folks! This is it from the second Test between India and England. After scoring 184 not out in the first innings, he has scored a half-century here. Can he save the game for England? Can he rescue the Three Lions? It all seems really-really tough at this point. ... Ravindra Jadeja is making the ball talk. He is using those rough patches beautifully, but he is unlucky to not get any wicket so far. This is a test of England\\'s patience as India are moving ahead with an attacking field.ENG 172/6 (46)\"}, {\"title\": \"IND vs ENG Live cricket score today: IND vs ENG Live scorecard, IND vs ENG Live ball by ball commentary | Crickit\", \"link\": \"https://www.hindustantimes.com/cricket/live-scorecard-ind-vs-eng-icc-men\\'s-t20-world-cup-2024-2nd-semi-final-india-vs-england-t20-live-score-inen06272024239656\", \"snippet\": \"<strong>8:20 PM IST</strong> Jos Buttler, the captain of England says that India certainly puyplayed them and feels they let India get 20 runs or so more but they were outplayed to be honest. Adds that a couple of years on from that victory (the semifinal win in Adelaide), the conditions were different and ... Live Score \\\\u00b7 Shorts \\\\u00b7 IND vs ENG \\\\u00b7 IND vs ENG Schedule \\\\u00b7 ENG Squad \\\\u00b7 IND Squad \\\\u00b7 ICC Ranking \\\\u00b7 Cricket Teams \\\\u00b7 Cricket Players \\\\u00b7 IND \\\\u00b7 171/7(20.0 ov) ENG \\\\u00b7 103/10(16.4 ov) India beat England by 68 runs \\\\u00b7 Summary \\\\u00b7 Scorecard \\\\u00b7 Commentary \\\\u00b7 Stats \\\\u00b7 News \\\\u00b7 England Squad \\\\u00b7 India Squad \\\\u00b7 ICC Rankings \\\\u00b7 Cricket Players \\\\u00b7 Live Score \\\\u00b7 Cricket Teams \\\\u00b7 Worm Graph \\\\u00b7 Manhattan \\\\u00b7 Run Rate \\\\u00b7 See all \\\\u00b7 TODAY2nd T20ISingapore National Cricket Ground \\\\u00b7 SIN-W \\\\u00b7 INA-W \\\\u00b7 Today07:00 AM \\\\u00b7 TODAYMatch 4Kuala Lumpur \\\\u00b7 After being inserted into bat by Jos Buttler, India lost Virat Kohli early yet again but skipper Rohit Sharma kept on pressing and after getting a couple of streaky boundaries away, Rohit started to find his rhythm. Along with Suryakumar Yadav, Rohit managed to keep the English spinners at bay and that run rate started to rise as well. However, England did come back with the ball and it required a couple of cameos from the likes of Hardik Pandya and Ravindra Jadeja that took India over the 170-run mark. 8:20 PM IST Jos Buttler, the captain of England says that India certainly puyplayed them and feels they let India get 20 runs or so more but they were outplayed to be honest. Adds that a couple of years on from that victory (the semifinal win in Adelaide), the conditions were different and India deserved to win.\"}, {\"title\": \"England vs India HIGHLIGHTS, 2nd Test: India thrash England by 336 runs to level series 1-1 | Cricket News - Business Standard\", \"link\": \"https://www.business-standard.com/cricket/news/england-vs-india-live-score-updates-2nd-test-day-5-india-tour-of-england-2025-ind-vs-eng-scorecard-125070600298_1.html\", \"snippet\": \"Shubman Gill registered his first victory as India\\\\u2019s red-ball captain as the visitors defeated England by a massive <strong>336 runs</strong> in the second Test at Edgbaston \\\\u2014 their first-ever win at this venue. ENG vs IND HIGHLIGHTS: This is also India\\'s first Test win against England at Edgbaston Topics : India vs England India cricket team Test Cricket ICC World Test Championship England cricket team \\\\u00b7 Don\\'t miss the most important news and views of the day. Get them on our Telegram channel ... Stock Market LIVE UpdatesStock to Watch TodayStocks To Buy TodayCUET UG Result 2025Crizac IPOGold and Silver Rate TodayLatest News LIVEJane Street BanDelhi CM Bungalow RenovationUpcoming IPO 2025 After Gill\\\\u2019s monumental double century with the bat, India\\\\u2019s bowlers stepped up on Day 5 to complete the job, levelling the five-match series at 1-1. The day began with a 100-minute rain delay, but the excellent work by the ground staff ensured play resumed under clear skies. England began cautiously but Akash Deep delivered two early blows, dismissing Ollie Pope (24) and Harry Brook (23), reducing England to 83/5. Shubman Gill registered his first victory as India\\\\u2019s red-ball captain as the visitors defeated England by a massive 336 runs in the second Test at Edgbaston \\\\u2014 their first-ever win at this venue.\"}, {\"title\": \"India Vs England 2nd Test Day 5 Highlights: IND Win By 336 Runs, Level Series 1-1 - News18\", \"link\": \"https://www.news18.com/cricket/india-vs-england-live-score-2nd-test-day-5-ind-vs-eng-match-toss-updates-and-latest-cricket-scorecard-edgbaston-birmingham-liveblog-9424073.html\", \"snippet\": \"India vs England 2nd Test Day 5 Highlights: <strong>Shubman Gill (269 and 161), Akash Deep (4/88 and 6/99) and Mohammed Siraj (6/70)</strong> help India secure first-ever Test win at Edgbaston. India vs England 2nd Test Day 5 Highlights: Shubman Gill (269 and 161), Akash Deep (4/88 and 6/99) and Mohammed Siraj (6/70) help India secure first-ever Test win at Edgbaston. India started strongly, with Mohammed Siraj striking twice in two balls to reduce England to 84/5, still trailing by 503 runs. Jamie Smith then launched a spirited counterattack, joined by Harry Brook, as the duo shifted the momentum with a marathon 303-run stand. Both batters brought up centuries on either side of the lunch break, with Smith going on to score 184, the highest by an English wicketkeeper in Test cricket. IND Vs ENG Live: Follow latest updates from the Day 5 of the 2nd Test between India and England. For the visitors, apart from Akash Deep, the other four bowlers\\\\u2014Mohammed Siraj, Ravindra Jadeja, Prasidh Krishna, and Washington Sundar\\\\u2014dismissed one England batter each. ... Next Test: July 10-14 at Lord\\\\u2019s (London). ... Phew. That brings us to the end of an extremely run-laden, record-breaking and historic Edgbaston Test. India take the honours from here by levelling the series by 1-1.\"}, {\"title\": \"ENG vs IND, 2nd Test Day 5 Highlights: Akash Deep\\'s 10-wicket haul helps India conquer Birmingham - India Today\", \"link\": \"https://www.indiatoday.in/sports/cricket/story/england-vs-india-live-score-2nd-test-day-5-weather-updates-edgbaston-2751576-2025-07-06\", \"snippet\": \"ENG vs IND, 2nd Test Live Score: <strong>ENG (407, 271) lose by 336 runs vs India</strong>. Bashir (12*). ... England are in no mood to defend as Brydon Carse hit Akash Deep in the air towards mid-on. However, Siraj failed to grab hold of the ball denying India their winning moment. ENG vs IND, 2nd Test Live Score: ENG (407, 244/8) need 364 runs to win vs IND. Carse (24*), Josh Tongue (0*). ... Brydon Carse is still swinging his bat out in the middle as he makes full use of the aggressive field setup by the Indian captain. England batters continued to take on the short ball, despite having no chance of winning the game and capitulated under pressure. ENG vs IND, 2nd Test Live Score: ENG (407, 199/7) need 409 runs to win vs IND. Smith (69*), Carse (0*). ... As captain Shubman Gill brings seamers back into the attack, the clouds have come back at Edgbaston, Birmingham. The lights are on and the conditions are getting dark, with a strong breeze blowing. Rain looks just around the corner and hence India must get a wicket here to further pile on the pressure on England, who\\'re looking for some help from overhead to draw the game. However, with loads of runs in the bank, the India captain is unlikely to change the field as India continue to hunt for the remaining four wickets.  \\\\u00b7 ENG vs IND, 2nd Test Live Score: ENG (407, 196/6) need 412 runs to win vs IND. Smith (69*), Woakes (6*).  ... England wicketkeeper batter Jamie Smith is waging a lone battle out in the middle as he brought up his fifth Test half century. ENG vs IND, 2nd Test Live Score: ENG (407, 173/6) need 435 runs to win vs IND. Smith (50*), Woakes (2*).  ... A total of 51 overs are left to be bowled on Day 5, which gives India ample time to dismiss the remaining four batters. The weather forecast looks positive for the rest of the day with just 10% chances of rain at around 10 pm IST. India will be eager to run through the England lower order quickly and level the series 1-1.\"}, {\"title\": \"India tour of England 2025 | Live Score, Schedule, News\", \"link\": \"https://www.espncricinfo.com/series/india-in-england-2025-1445348\", \"snippet\": \"Brendon McCullum says England have asked for a pitch with &quot;plenty of life in it&quot; after heavy defeat at Edgbaston left series at <strong>1-1</strong> ... The India captain said the flat surfaces and the balls that go soft too soon create difficult bowling conditions Brendon McCullum says England have asked for a pitch with \\\\\"plenty of life in it\\\\\" after heavy defeat at Edgbaston left series at 1-1 ... The India captain said the flat surfaces and the balls that go soft too soon create difficult bowling conditions While England managed only eight wickets with the two new balls, India nearly doubled that tally\"}, {\"title\": \"IND vs ENG 2nd Test Day 5 Highlights: Akash Deep\\\\u2019s 10-wicket haul helps India beat England by 336 runs at Edgbaston to level series 1-1 | Cricket News - The Indian Express\", \"link\": \"https://indianexpress.com/article/sports/cricket/ind-vs-eng-2nd-test-day-5-live-cricket-score-india-england-birmingham-today-updates-ben-stokes-akash-deep-harry-brook-10109589/\", \"snippet\": \"With the ball, it was Mohammed ... although <strong>England</strong> had two centuries from Harry Brook and Jamie Smith, they still fell a long way away from <strong>India</strong>\\\\u2019s first innings lead, which took its toll in the second innings. IND <strong>vs</strong> ENG 2nd Test <strong>LIVE</strong> Cricket <strong>Score</strong>, Full ... With the ball, it was Mohammed Siraj in the first innings who did the damage with six wickets. In the first innings, although England had two centuries from Harry Brook and Jamie Smith, they still fell a long way away from India\\\\u2019s first innings lead, which took its toll in the second innings. IND vs ENG 2nd Test LIVE Cricket Score, Full Scorecard After the play, England assistant coach Marcus Trescothick conceded that they \\\\u201cthey needed to score hell of a lot runs\\\\u201d but they will \\\\u201cremain positive\\\\u201d, before finally conceding that they might have to think about the third result of draw. But not their ill-equipped batsmen, rain could be England\\\\u2019s big hope.READ FULL REPORT BY SANDEEP DWIVEDI ... Hello and welcome to our live coverage of Day 5 of the second Test between India and England (Anderson-Tendulkar Trophy) played at Edgbaston in Birmingham on Sunday. Stay tuned as we bring you all the live updates straight from the venue via our correspondent and the man on the ground, Sandeep Dwivedi.  \\\\u00b7 India\\'s captain Shubman Gill celebrates after scoring a century during day four of the second Test against England at Edgbaston. (AP) No batsman has scored a double hundred and a 150-plus score in the same Test match in the game\\\\u2019s 150-year-long history. However, what India has shown in this Test match the way to counter this side is simple: go back to basics and make the most of the batting conditions. If you are coming to England going forward have a batting unit which is equipped with batters who can score 600 runs which does put immense pressure on them and also makes them reassess the kind of pitches they have to use.\"}, {\"title\": \"HIGHLIGHTS ENG vs IND Anderson-Tendulkar Trophy, 2025 2nd Test Result, Scorecard | The Indian Express\", \"link\": \"https://indianexpress.com/section/sports/cricket/live-score/england-vs-india-2nd-test-live-score-full-scorecard-highlights-anderson-tendulkar-trophy-2025-enin07022025250826/\", \"snippet\": \"His presence at the crease gave the innings a spine, a calm rhythm that kept India grounded. He was nicely supported by Ravindra Jadeja for a 203-run stand as <strong>Jadeja himself scored 89</strong> and steadied India&#x27;s ship after a minor wobble. After the dismissal of Jadeja, England sensed another collapse, ... His presence at the crease gave the innings a spine, a calm rhythm that kept India grounded. He was nicely supported by Ravindra Jadeja for a 203-run stand as Jadeja himself scored 89 and steadied India\\'s ship after a minor wobble. After the dismissal of Jadeja, England sensed another collapse, but Washington Sundar dashed any chances of that. He supported Gill extremely well and formed a 144-run stand as the Indian skipper walked past many records to score 269 before getting out. Once Gill fell, India slipped from 574/7 to 587 all out. Shoaib Bashir was the pick of the bowlers for England with 3 wickets, whereas Chris Woakes and Josh Tongue claimed two apiece. What an hour or so after Lunch for India! They have asserted their dominance all over England, who seem to be running out of ideas. Washington Sundar had just come in before the Lunch break and England peppered him with short balls, a few too many and eventually, Sundar was able to muster up some runs as well. However, it was Shubman Gill who went on a rampage and didn\\'t let any bad deliveries go to waste. Gill is now on 222, a huge individual score and he wouldn\\'t want to stop here. Pitched up around middle, Shubman Gill leans right on and punches the straight drive, this time to the right of the stumps at the other end and the ball races away for a third consecutive boundary in the over. Gill moves on to 222, the highest score by any Indian batter in England, beating the previous best of 221 by Sunil Gavaskar from way back in 1979 at The Oval.\"}, {\"title\": \"India level series 1-1 against England thanks to Shubman Gill and Akash Deep - BBC Sport\", \"link\": \"https://www.bbc.com/sport/cricket/live/cwynep1gqjgt\", \"snippet\": \"<strong>England</strong> face <strong>India</strong> in the second Test at Edgbaston - follow <strong>live</strong> <strong>scores</strong>, radio commentary, video highlights and updates. India captain Shubman Gill: \\\\\"It feels amazing. We have three more Tests matches to go and when we win the series I think that it will be a great feeling.\\\\\" On his batting: \\\\\"It\\'s very satisfying to be able to score those runs. Surely it\\\\u2019s time for him to step aside so an all-rounder can come in and actually score runs and take wickets. ... I have a real concern about Jofra Archer playing in the next Test. I can see why England are wrapping him in cotton wool because he is a gamechanger. England captain Ben Stokes speaking to Test Match Special: \\\\\"Difficult one, obviously coming off that victory last week, coming away on the wrong side of the result is very disappointing. \\\\\"We turned up here and there were some overheads when we did the toss. You\\'ve got to live by what you chose. We will, of course, be back at Lord\\'s on Thursday for the third Test, including ball-by-ball commentary from the Test Match Special team. England\\'s women play the fourth T20 against India before then while we have coverage of games in the Blast over the next few days as well.\"}, {\"title\": \"India beat England by 336 runs in second men\\\\u2019s cricket Test, day five \\\\u2013 as it happened | England v India 2025 | The Guardian\", \"link\": \"https://www.theguardian.com/sport/live/2025/jul/06/england-v-india-second-cricket-test-day-five-live-sccore-updates\", \"snippet\": \"Akash Deep finished with 10 wickets in the match as <strong>India</strong> levelled the series with a thumping win at Edgbaston Akash Deep claims six wickets as India crush England to level Test series ... Some final thoughts: there\\\\u2019ll be critics of how England went today but Brook and Stokes got fine deliveries and Smith only erred after getting to 88. Maybe he didn\\\\u2019t need to keep swinging but you can\\\\u2019t have a pop at the guy who scored 272 runs in the match. Shubman Gill gets the medal and bottle \\\\u2013 he\\\\u2019s had a wonderful week, an obscene amount of runs to go with his first Test win as India captain. \\\\u201cI\\\\u2019m definitely feeling comfortable with my game,\\\\u201d he says. Yeah, I reckon so, Shubman. He confirms that Bumrah will be back for Lord\\\\u2019s. The series is perfectly set up. ... I can\\\\u2019t watch this England performance and see it as anything other than taking the piss. England should probably be more concerned with how they went on the days before, allowing a side to pile up more than a thousand runs. I wouldn\\\\u2019t be so harsh on them taking some joy out of the final rites. ... Gill will probably get Player of the Match but Akash Deep has final figures of 10 for 187, a phenomenal effort after replacing the great Jasprit Bumrah. This is India first Test victory at Edgbaston. Deep has 10 in the match, India have their victory. Carse slogs again but the ball flies high into the Birmingham sky, with Shubman Gill (who else?) holding on. It\\\\u2019s 1-1 and we\\\\u2019ve got a series. ... 68th over: England 271-9 (Carse 38, Bashir 12) \\\\u201cAi yaar,\\\\u201d come the shout from Pant, exasperated after Jadeja turns one wildly but misses the stumps.\"}, {\"title\": \"England and Ben Stokes\\\\u2019 flaws brutally exposed as India run riot\", \"link\": \"https://www.telegraph.co.uk/cricket/2025/07/06/england-vs-india-2nd-test-day-5-live-score-latest/\", \"snippet\": \"<strong>India</strong>\\\\u2019s thumping first-ever Test win at Edgbaston starkly exposed the lack of flexibility at the heart of Ben Stokes\\\\u2019s <strong>England</strong> team. Indian cricket was coached by English cricketers, more so than any other country bar South Africa: before the Second World War, that is. And I suspect one tradition remains, the lordly behaviour of the captain. Shubman Gill behaved just as Douglas Jardine would have done after making a score as captain while leading England in the 1933-4 series in India. Good morning and welcome to live coverage of the fifth day of the second Test between England and India which begins with India in the ascendancy and overwhelming favourites to win and level the series before Lord\\\\u2019s on Thursday. When you win the toss and bowl you\\\\u2019re not anticipating the opposition\\\\u2019s going to score 580 and then from that point we\\\\u2019re behind the game. \\\\u201cIt was only a brilliant partnership from Jamie Smith and Harry Brook which gave us any balance in the game throughout the five days. We\\\\u2019re not rigid with our plans. It\\\\u2019s just we thought this pitch might get better to bat on as we went through the five days, but as we saw it didn\\\\u2019t.\\\\u201d \\\\u00b7 Stokes was less willing to admit a mistake had been made, instead pointing to India\\\\u2019s first-innings recovery, and England\\\\u2019s slump to 84 for five on the third morning as the reason for their defeat. Both had good Tests at Headingley and England will say criticism is knee-jerk but their body of work is long enough to make judgments. Crawley\\\\u2019s average is 31 from 56 Tests and he has been out for single figures 42 times in 102 innings. When he plays well, there is always a fall waiting around the next corner. Pope ended day one of the series 100 not out. Since then he has scored 38 and been out four times.\"}, {\"title\": \"ENG:97/10 (10.3) | Live Cricket Score | IND vs ENG | eng in ind 5 t20is 2025 | Cricket Scoreboard \\\\u2013 NDTV Sports\", \"link\": \"https://sports.ndtv.com/cricket/ind-vs-eng-scorecard-live-cricket-score-england-in-india-5-t20i-series-2025-5th-t20i-inen02022025247155\", \"snippet\": \"<strong>Live</strong> Cricket Scoreboard: ENG:97/10 (10.3) Get <strong>India</strong> <strong>vs</strong> <strong>England</strong> Scorecard of 5th T20I with ball by ball commentary, <strong>Live</strong> Cricket <strong>Score</strong>, Stats, Graphs, Match Results and full scoreboard at NDTV Sports.\"}, {\"title\": \"IND vs ENG highlights, 2nd Test Match Day 4: India seven wickets away from win vs England at Edgbaston - The Times of India\", \"link\": \"https://timesofindia.indiatimes.com/sports/cricket/ind-vs-eng-live-score-today-cricket-match-india-vs-england-2nd-test-match-day-4-scorecard-rain-weather-shubman-gill-rishabh-pant-kl-rahul-ben-stokes/liveblog/122263397.cms\", \"snippet\": \"Despite some missed opportunities and late declaration debate, Gill\\\\u2019s milestone-laden effort has firmly put <strong>India</strong> in the driver\\\\u2019s seat. ... IND <strong>vs</strong> ENG <strong>Live</strong> <strong>Score</strong>: STUMPS! STUMPS! <strong>England</strong> 72/3 at stumps on Day 4, need 536 more runs to win the Edgbaston Test Harry Brook 15*, Ollie Pope 24* ... Despite some missed opportunities and late declaration debate, Gill\\\\u2019s milestone-laden effort has firmly put India in the driver\\\\u2019s seat. ... IND vs ENG Live Score: STUMPS! STUMPS! England 72/3 at stumps on Day 4, need 536 more runs to win the Edgbaston Test Harry Brook 15*, Ollie Pope 24* Akash Deep 2/36, Siraj 1/29 IND vs ENG Live Score: WICKET! Root gone! WICKET! CLEAN BOWLED! Akash Deep strikes again, Joe Root falls for 6. An absolutely unplayable delivery from Akash. BIG BIG wicket for the Indian pacer and India as well. England lose their third wicket! Root tries to play across but the ball deviates away from him and rattles the stumps. Akash Deep is on fire. Second wicket for him. ENGLAND 50/3, need 558 runs to win vs INDIA ... IND vs ENG Live Score: REVIEW and NOT OUT! Prasidh seems confident and he discusses with Shubman Gill. Timer is on. Time is running out. Shubman takes a review. Not a good review. Missing leg stump. India have burnt another review. ENGLAND 50/2, need 558 to win ... IND vs ENG Live Score: APPEAL and NOT OUT!\"}, {\"title\": \"IND vs ENG Live Updates: Joe Root holds key for England as India rely on Siraj-Akash to provide early breakthrough\", \"link\": \"https://www.hindustantimes.com/cricket/india-vs-england-2nd-test-live-score-updates-ind-vs-eng-day-3-full-scorecard-edgbaston-birmingham-today-match-july-4-101751609280062.html\", \"snippet\": \"<strong>England</strong> reach 407, in response to <strong>India</strong>\\\\u2019s 587, and trail by 180 runs. <strong>England</strong> reach 355/5 in 75 overs at Tea, and trail by 232 runs. Jamie Smith reaches 150 runs in post-Lunch session. Harry Brook registers ton in post-Lunch session. <strong>England</strong> reach 249/5 in 47 overs at Lunch, trail by 338 runs. Jamie Smith registers his century off 80 balls. Harry Brook registers half-century. Joe Root (18*) and Harry Brook (30*) resume batting for <strong>England</strong> on Day 3. ... IND <strong>vs</strong> ENG <strong>Live</strong> <strong>Score</strong>... England reach 407, in response to India\\\\u2019s 587, and trail by 180 runs. England reach 355/5 in 75 overs at Tea, and trail by 232 runs. Jamie Smith reaches 150 runs in post-Lunch session. Harry Brook registers ton in post-Lunch session. England reach 249/5 in 47 overs at Lunch, trail by 338 runs. Jamie Smith registers his century off 80 balls. Harry Brook registers half-century. Joe Root (18*) and Harry Brook (30*) resume batting for England on Day 3. ... IND vs ENG Live Score, India vs England 2nd Test Day 3: Only one run conceded in the 13th over as Nair (7*) and Rahul (28*) remain unbeaten. IND vs ENG Live Score, India vs England 2nd Test Day 3: Three fours in the seventh over as Rahul takes on Woakes. First, he smacks Woakes through point, and the other four is to the long-off boundary, and the next is through point! Woakes to bowl for England. ... IND vs ENG Live Score, India vs England 2nd Test Day 3: Siraj gets his six-wicket haul as India end this innings with a 180-run lead! IND vs ENG Live Score, India vs England 2nd Test Day 3: Maiden over for Carse and Rahul (27*), Nair (7*) look to build a partnership for India.\"}, {\"title\": \"IND vs ENG Highlights: India close strong after Mohammed Siraj\\\\u2019s six-wicket haul - The Times of India\", \"link\": \"https://timesofindia.indiatimes.com/sports/cricket/ind-vs-eng-live-score-today-cricket-match-india-vs-england-2nd-test-match-day-3-scorecard-rain-weather-shubman-gill-rishabh-pant-kl-rahul-ben-stokes/liveblog/122244105.cms\", \"snippet\": \"<strong>India</strong> <strong>vs</strong> <strong>England</strong> 2nd Test: Big milestone! Rishabh Pant scripts SENA history with... ... MLC NewsNHL NewsNBA NewsEsports and Gaming NewsCricket NewsWWE NewsCA Results May 2025International SportsMLB NewsNFL NewsIND <strong>vs</strong> ENGLive Cricket <strong>Score</strong> ... IND <strong>vs</strong> ENG LiveCA Results May 2025Troy AikmanTrevor ... India vs England 2nd Test: Big milestone! Rishabh Pant scripts SENA history with... ... MLC NewsNHL NewsNBA NewsEsports and Gaming NewsCricket NewsWWE NewsCA Results May 2025International SportsMLB NewsNFL NewsIND vs ENGLive Cricket Score ... IND vs ENG LiveCA Results May 2025Troy AikmanTrevor LawrenceICAI CA Results ScorecardTravis KelceCardi BDakota JohnsonStefon DiggsSydney SweeneyAaron RodgersElon MuskElon Musk New Political PartyIndian Origin Ishaan SharmaICAI CA Toppers 2025PM ModiSavannah JamesJayson TatumPatrick MahomesPaige SpiranacPirate SoftwareRussell WilsonCal FooteNHL ContractTom BradyLarsa PippenNazem KadrisCarolina HurricanesWayne GretzkyWho is Rajan Kabra Together they added 303 runs, turning a hopeless situation into a position of relative strength. Smith\\\\u2019s unbeaten 184 broke Alec Stewart\\\\u2019s record for the highest score by an England wicketkeeper. However, once India took the second new ball, the script flipped. Earlier in the day, England were reeling at 84/5 after Stokes fell to a brilliant delivery, but the pair of Brook and Smith completely changed the momentum with their remarkable stand. Just when India looked flat and out of answers, Akash Deep struck with a peach to dismiss Brook and open the floodgates. From there, the rest of the wickets fell quickly. Through it all, Jamie Smith has stood tall with an extraordinary innings which is the highest-ever score by an England wicketkeeper in Tests. India now have a massive lead and will be keen to wrap up this final wicket quickly and get back to batting. ... Siraj strikes with the first ball of his new over and completes a five-wicket haul. Full and straight on middle and leg, Tongue misses the flick and is pinned plumb in front. No hesitation from the umpire. Siraj lifts the ball to acknowledge the crowd. England 407-9 after 89.1 overs Jamie Smith 184* (207) ... Highest Test score for an England wicketkeeper 174* - Jamie Smith vs IND, Edgbaston, 2025 173 - Alec Stewart vs NZ, Auckland, 1997 167* - Jonny Bairstow vs SL, Lord\\\\u2019s, 2016 164 - Alec Stewart vs SA, Old Trafford, 1998 152 - Jos Buttler vs PAK, Southampton, 2020 150* - Jonny Bairstow vs SA, Cape Town, 2016\"}, {\"title\": \"Relive England\\'s thrilling win over India at The Oval to keep the T20 series alive - BBC Sport\", \"link\": \"https://www.bbc.com/sport/cricket/live/cql61q745nrt\", \"snippet\": \"<strong>England</strong> face <strong>India</strong> in the third T20 at The Oval - follow <strong>live</strong> <strong>scores</strong>, radio commentary, video highlights and updates. We\\'ll be back tomorrow for the fourth day of England men\\'s second Test against India, see you then from 10:30 BST. Good night. ... Stand-in England captain Tammy Beaumont: \\\\\"I think that\\'s what you live for in cricket. As captain, those are the moments you live for. Take a read of Ffion Wynne\\'s report as England won by five runs in a match that went to the final ball. India now lead this five-match series 2-1, with the fourth game at Old Trafford on Wednesday (18:30 BST) and the last at Edgbaston on Sunday. Now we believe we can go toe-to-toe with this India team and come out on top. \\\\\"The execution at the death was so good. There was so much clarity.\\\\\" On Lauren Filer: \\\\\"She\\'s changed the game. She got those wickets, she bowled fast, she was fiery. \\\\\"Bowling fast is not easy, sometimes she\\'ll go around the park but she changed the game tonight.\\\\\" ... England all-rounder Charlie Dean speaking to Sky Sports: \\\\\"Just before [her spectacular catch] Wong-y moved me in front of square and I wasn\\'t sure about that! On her place in the team after missing the first two matches of the series: \\\\\"Obviously you want to play as many games as you can for England. I feel like I\\'m in a really good place, the calibre of bowlers we have in this team the levels keep raising. Happy to be in today and make a little bit of contribution.\\\\\" ... India captain Harmanpreet Kaur: \\\\\"I think we were in the game until the 16th over, but after that we didn\\'t utilise.\"}, {\"title\": \"IND vs ENG Highlights: England reach 77/3, trail by 510 runs; Shubman Gill\\'s historic 269 takes India to 587 | Crickit\", \"link\": \"https://www.hindustantimes.com/cricket/india-vs-england-2nd-test-live-score-updates-ind-vs-eng-day-2-full-scorecard-edgbaston-birmingham-today-match-july-3-101751522060051.html\", \"snippet\": \"Before Jadeja\\\\u2019s dismissal, <strong>England</strong> ... took <strong>India</strong>\\\\u2019s total past 400. Gill looks calm and is in control, despite Carse\\\\u2019s short ball tactics, or Bashir\\\\u2019s spin. ... Ravindra Jadeja registers his seventh half-century <strong>vs</strong> <strong>England</strong>. Shubman Gill, Ravindra Jadeja get their 100-run stand in the first delivery of first session. ... IND <strong>vs</strong> ENG <strong>Live</strong> <strong>Score</strong>, <strong>India</strong> <strong>vs</strong> ... Before Jadeja\\\\u2019s dismissal, England bowlers were running out of ideas as the all-rounder and Gill brought up their 200-run stand with ease, and it also took India\\\\u2019s total past 400. Gill looks calm and is in control, despite Carse\\\\u2019s short ball tactics, or Bashir\\\\u2019s spin. ... Ravindra Jadeja registers his seventh half-century vs England. Shubman Gill, Ravindra Jadeja get their 100-run stand in the first delivery of first session. ... IND vs ENG Live Score, India vs England 2nd Test Day 2: A good length delivery by Prasidh, outside off. IND vs ENG Live Score, India vs England 2nd Test Day 2: Back of a length delivery by Prasidh, down leg, and Brook flicks it off the pads, past the diving midwicket fielder and it goes to the boundary. Then it is a dot, followed by a single. IND vs ENG Live Score, India vs England 2nd Test Day 2: Prasidh has bowled nine spells across three innings this series, and has leaked a boundary in the first over in each of his last seven spells! IND vs ENG Live Score, India vs England 2nd Test Day 2: 5 runs conceded in the 13th over as Brook also gets a four, glancing a loose delivery by Akash Deep through square leg, for a four!!\"}]'"
      ]
     },
     "execution_count": 15,
     "metadata": {},
     "output_type": "execute_result"
    }
   ],
   "source": [
    "search_snippets = brave_cricket_search.invoke(\"\")\n",
    "\n",
    "search_snippets"
   ]
  },
  {
   "cell_type": "code",
   "execution_count": 21,
   "id": "f279fa5a",
   "metadata": {},
   "outputs": [],
   "source": [
    "from langchain_tavily import TavilySearch\n",
    "\n",
    "\n",
    "tavily = TavilySearch(\n",
    "    max_results=30,            # Increase number of results\n",
    "    topic=\"general\",\n",
    "    include_answer=True,       # Provide direct answer summaries\n",
    "    include_raw_content=False, \n",
    "    include_images=False,\n",
    "    search_depth=\"advanced\",   # Deeper crawling for context\n",
    "    time_range=\"day\",          # Limit to last 24 hours\n",
    "    include_domains=[\n",
    "        \"cricbuzz.com\", \"espncricinfo.com\", \"icc-cricket.com\"\n",
    "    ],\n",
    "    exclude_domains=None\n",
    ")"
   ]
  },
  {
   "cell_type": "code",
   "execution_count": 22,
   "id": "bdc180b3",
   "metadata": {},
   "outputs": [],
   "source": [
    "# tool.invoke({\"query\": \"What happened at the last wimbledon\"})"
   ]
  },
  {
   "cell_type": "code",
   "execution_count": 23,
   "id": "da7ee778",
   "metadata": {},
   "outputs": [],
   "source": [
    "resp = tavily.invoke({\n",
    "    \"query\": (\n",
    "        '\"live cricket match\" OR '\n",
    "        '\"today cricket schedule\" OR '\n",
    "        '\"ongoing cricket series\" OR '\n",
    "        '\"domestic cricket tournament India\" OR '\n",
    "        '\"international cricket fixtures today\" OR '\n",
    "        '\"T20 league live score\"'\n",
    "    ),\n",
    "    \"include_domains\": None,  # already set\n",
    "    \"exclude_domains\": None\n",
    "})\n",
    "\n"
   ]
  },
  {
   "cell_type": "code",
   "execution_count": 25,
   "id": "abbe003a",
   "metadata": {},
   "outputs": [
    {
     "data": {
      "text/plain": [
       "{'query': '\"live cricket match\" OR \"today cricket schedule\" OR \"ongoing cricket series\" OR \"domestic cricket tournament India\" OR \"international cricket fixtures today\" OR \"T20 league live score\"',\n",
       " 'follow_up_questions': None,\n",
       " 'answer': \"Today's international cricket matches include Sri Lanka vs Bangladesh in the 3rd ODI. The India tour of England 2025 is scheduled. Live scores for Bangladesh tour of Sri Lanka 2025 are available.\",\n",
       " 'images': [],\n",
       " 'results': [{'url': 'https://www.cricbuzz.com/cricket-schedule/upcoming-series/all',\n",
       "   'title': 'Cricket Schedule - International, domestic and T20 matches',\n",
       "   'content': 'Schedule of International, T20 League, Indian, Australian and English domestic cricket matches on Cricbuzz.',\n",
       "   'score': 0.55623144,\n",
       "   'raw_content': None},\n",
       "  {'url': 'https://www.cricbuzz.com/cricket-match/live-scores/upcoming-matches',\n",
       "   'title': 'India tour of England 2025 | Live Cricket Score | Scorecard',\n",
       "   'content': 'Get Live Cricket Score, Ball by Ball Commentary, Scorecard Updates, Match ... Today. INTERNATIONAL. Sri Lanka v Bangladesh · Sri Lanka vs Bangladesh. 3rd ODI.',\n",
       "   'score': 0.48572227,\n",
       "   'raw_content': None},\n",
       "  {'url': 'https://www.cricbuzz.com/cricket-schedule/upcoming-series/international',\n",
       "   'title': 'Cricket Schedule - International, domestic and T20 matches',\n",
       "   'content': 'THU, JUL 10 2025 · Indonesia T20I Tri-Series 2025 · Indonesia vs Philippines, 7th Match · Bulgaria T20I Tri-Series 2025 · Bulgaria vs Gibraltar, 1st Match.',\n",
       "   'score': 0.42005292,\n",
       "   'raw_content': None},\n",
       "  {'url': 'https://www.espncricinfo.com/live-cricket-score',\n",
       "   'title': \"Live Cricket Score | Today's Cricket Match Scorecard & ...\",\n",
       "   'content': 'Live Cricket Matches · Bangladesh tour of Sri Lanka 2025 · South Africa in Zimbabwe · Vitality Blast Women 2025 · Vitality Blast Men 2025 · Major League Cricket 2025.',\n",
       "   'score': 0.38977933,\n",
       "   'raw_content': None},\n",
       "  {'url': 'https://www.espncricinfo.com/ausvseng/content/series/1171739.html?template=fixtures',\n",
       "   'title': 'Fixtures, Schedule | ACC Western Region T20',\n",
       "   'content': 'Live Scores · Live Scores Home · Schedule · Results · Month view · Season view ... 1st Match - Bahrain v Saudi Arabia Al Amerat Cricket Ground Oman Cricket (',\n",
       "   'score': 0.37456247,\n",
       "   'raw_content': None},\n",
       "  {'url': 'https://www.cricbuzz.com/',\n",
       "   'title': 'Cricbuzz.com: India tour of England 2025 | Live Cricket Score ...',\n",
       "   'content': 'Zimbabwe vs South Africa, 2nd Test, Day 3. Today · 8:00 AM GMT ; Philippines vs South Korea, 5th Match. Tomorrow · 1:30 AM GMT ; Indonesia vs Philippines, 7th Match.',\n",
       "   'score': 0.36752048,\n",
       "   'raw_content': None},\n",
       "  {'url': 'https://www.cricbuzz.com/cricket-match/live-scores',\n",
       "   'title': 'India tour of England 2025 | Live Cricket Score | Scorecard',\n",
       "   'content': 'Cricbuzz Logo\\n\\n#### Test Teams\\n\\n#### Associate\\n\\n# Live Cricket Score\\n\\n## BANGLADESH TOUR OF SRI LANKA, 2025\\n\\n### Sri Lanka vs Bangladesh,\\n\\n## SOUTH AFRICA TOUR OF ZIMBABWE, 2025\\n\\n### South Africa vs Zimbabwe,\\n\\n## INDONESIA T20I TRI-SERIES 2025\\n\\n### Indonesia vs South Korea,\\n\\n## ICC MENS T20 WORLD CUP EUROPE QUALIFIER 2025\\n\\n### Jersey vs Guernsey,\\n\\n## PONDICHERRY PREMIER LEAGUE 2025\\n\\n### Ruby White Town Legends vs Villianur Mohit Kings,\\n\\n#### Featured Videos [...] #### LATEST NEWS\\n\\nWinning eight out of their last nine games, Freedom will start as favourites against Texas Super Kings\\n\\nJoe Root got bowled by a peach of a delivery from Akash Deep \\nWiaan Mulder was only 34 runs short of registering the highest individual score in Test cricket when he decided to declare\\nMcCullum singled out Akash Deep for his excellent bowling display\\nFisher (left) has taken 51 first-class wickets in 14 matches  has taken 51 first-class wickets in 14 matches \")\\nCricbuzz Logo [...] Akash Deep will become mainstay alongside Bumrah & Siraj: Kartik\\n\\n1:10\\n\\n▶\\n\\n#### Akash Deep will become mainstay alongside Bumrah & Siraj: Kartik\\n\\n#### Akash Deep will become mainstay alongside Bumrah & Siraj: Kartik\\n\\nGill captained with authority, spot on with tactics: Murali Kartik\\n\\n#### Gill captained with authority, spot on with tactics: Murali Kartik\\n\\nDo England need to worry ahead of Lord\\'s Test? Vaughan answers\\n\\n#### Do England need to worry ahead of Lord\\'s Test? Vaughan answers',\n",
       "   'score': 0.3199925,\n",
       "   'raw_content': None},\n",
       "  {'url': 'https://www.cricbuzz.com/cricket-team/sri-lanka/5/schedule',\n",
       "   'title': 'Sri Lanka Cricket Team live scores, fixtures',\n",
       "   'content': '1st ODI · Harare, Harare Sports Club · Fri, Aug 29 · Fri, Aug 29 · 12:30 AM ; 2nd ODI · Harare, Harare Sports Club · Sun, Aug 31 · Sun, Aug 31 · 12:30 AM ; 1st T20I',\n",
       "   'score': 0.3160847,\n",
       "   'raw_content': None},\n",
       "  {'url': 'https://m.cricbuzz.com/cricket-match-news/123413/ads-vs-mlr-38th-match-big-bash-league-2025-26',\n",
       "   'title': 'Live Cricket Score, Schedule, Latest News, Stats & Videos',\n",
       "   'content': 'Adelaide Strikers vs Melbourne Renegades, 38th Match - Live Cricket Score, Commentary. Series: Big Bash League 2025-26. Venue: Adelaide Oval, Adelaide. Date',\n",
       "   'score': 0.29220682,\n",
       "   'raw_content': None},\n",
       "  {'url': 'https://www.cricbuzz.com/cricket-match/live-scores/recent-matches',\n",
       "   'title': 'Live Cricket Score | Scorecard | Live Commentary',\n",
       "   'content': 'live cricket score ; 5th Match · Blantyre, TCA Oval. MalawiMWI. 109-9 (20) ; 3rd Match · Blantyre, TCA Oval. BahrainBHR. 207-2 (20) ; 4th Match · Blantyre, TCA Oval.',\n",
       "   'score': 0.29107204,\n",
       "   'raw_content': None},\n",
       "  {'url': 'https://www.espncricinfo.com/ci/engine/match/index.html?date=2026-01-06;view=week',\n",
       "   'title': 'Test matches',\n",
       "   'content': 'Big Bash League ; Dec 31, 2025 · 17th Match at Adelaide Oval (night). Adelaide Strikers ; Jan 1, 2026 · 18th Match at Docklands Stadium, Melbourne (day/night).',\n",
       "   'score': 0.27751994,\n",
       "   'raw_content': None},\n",
       "  {'url': 'https://www.espncricinfo.com/live-cricket-match-schedule-fixtures',\n",
       "   'title': 'Upcoming Cricket Matches | Score And Fixtures',\n",
       "   'content': \"Upcoming ; South Africa vs ZimbabweInt'l. Day 3 - 2nd Test, Bulawayo, July 06 - 10, 2025 · South Africa tour of Zimbabwe. 1:00 AM ; Sri Lanka vs BangladeshInt'l.\",\n",
       "   'score': 0.269419,\n",
       "   'raw_content': None},\n",
       "  {'url': 'https://www.espncricinfo.com/ci/engine/match/index.html?view=week',\n",
       "   'title': 'Cricket Results - Recent Cricket Scores',\n",
       "   'content': 'Twenty20 Internationals ; 4th Match at Udayana Cricket Ground. Indonesia 168 (20 ov) ; 4th Match at TCA Oval, Blantyre. Tanzania 135/9 (20 ov) ; 3rd Match at',\n",
       "   'score': 0.25101417,\n",
       "   'raw_content': None},\n",
       "  {'url': 'https://m.cricbuzz.com/cricket-match-videos/118610/sl-vs-ban-3rd-odi-bangladesh-tour-of-sri-lanka-2025',\n",
       "   'title': 'Sri Lanka vs Bangladesh, 3rd ODI - - Live Cricket Score ...',\n",
       "   'content': 'Sri Lanka vs Bangladesh. 3rd ODI · West Indies v Australia, 2025 · Australia vs West Indies. 2nd Test · South Africa tour of Zimbabwe, 2025.',\n",
       "   'score': 0.2441516,\n",
       "   'raw_content': None},\n",
       "  {'url': 'https://www.icc-cricket.com/',\n",
       "   'title': 'ICC Cricket',\n",
       "   'content': \"ICC World Test Championship · ICC Women's Cricket World Cup, 2025 · ICC Women's T20 World Cup, 2026 · ICC Champions Trophy · ICC Women's Cricket World Cup\",\n",
       "   'score': 0.22390309,\n",
       "   'raw_content': None},\n",
       "  {'url': 'https://www.espncricinfo.com/slvind/content/series/820099.html?template=fixtures',\n",
       "   'title': 'Fixtures, Schedule | India in Sri Lanka',\n",
       "   'content': \"Test Championship 2025-2027 · Women's Championship · World Cup League 2 · CWC Challenge League Group A · CWC Challenge League Group B · -Future series- · -\",\n",
       "   'score': 0.22390309,\n",
       "   'raw_content': None},\n",
       "  {'url': 'https://m.cricbuzz.com/cricket-match-news/125091/engch-vs-pakch-1st-match-world-championship-of-legends-2025',\n",
       "   'title': 'Live Cricket Score, Schedule, Latest News, Stats & Videos',\n",
       "   'content': 'England Champions vs Pakistan Champions, 1st Match - Live Cricket Score, Commentary. Series: World Championship of Legends 2025. Venue: Edgbaston, Birmingham.',\n",
       "   'score': 0.2164091,\n",
       "   'raw_content': None}],\n",
       " 'response_time': 7.74}"
      ]
     },
     "execution_count": 25,
     "metadata": {},
     "output_type": "execute_result"
    }
   ],
   "source": [
    "resp\n"
   ]
  },
  {
   "cell_type": "code",
   "execution_count": null,
   "id": "921689a8",
   "metadata": {},
   "outputs": [],
   "source": []
  }
 ],
 "metadata": {
  "kernelspec": {
   "display_name": "venv",
   "language": "python",
   "name": "python3"
  },
  "language_info": {
   "codemirror_mode": {
    "name": "ipython",
    "version": 3
   },
   "file_extension": ".py",
   "mimetype": "text/x-python",
   "name": "python",
   "nbconvert_exporter": "python",
   "pygments_lexer": "ipython3",
   "version": "3.12.4"
  }
 },
 "nbformat": 4,
 "nbformat_minor": 5
}
